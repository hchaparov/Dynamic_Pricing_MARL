{
  "cells": [
    {
      "cell_type": "markdown",
      "metadata": {
        "id": "view-in-github",
        "colab_type": "text"
      },
      "source": [
        "<a href=\"https://colab.research.google.com/github/hchaparov/Dynamic_Pricing_MARL/blob/main/2A_Tennis_PPO.ipynb\" target=\"_parent\"><img src=\"https://colab.research.google.com/assets/colab-badge.svg\" alt=\"Open In Colab\"/></a>"
      ]
    },
    {
      "cell_type": "code",
      "execution_count": 9,
      "metadata": {
        "colab": {
          "base_uri": "https://localhost:8080/"
        },
        "id": "U1nh7vHgaoET",
        "outputId": "c555dbca-ab9d-4512-aade-83d3572eaced"
      },
      "outputs": [
        {
          "output_type": "stream",
          "name": "stdout",
          "text": [
            "Requirement already satisfied: pettingzoo[atari] in /usr/local/lib/python3.10/dist-packages (1.24.3)\n",
            "Requirement already satisfied: numpy>=1.21.0 in /usr/local/lib/python3.10/dist-packages (from pettingzoo[atari]) (1.25.2)\n",
            "Requirement already satisfied: gymnasium>=0.28.0 in /usr/local/lib/python3.10/dist-packages (from pettingzoo[atari]) (0.29.1)\n",
            "Requirement already satisfied: multi-agent-ale-py==0.1.11 in /usr/local/lib/python3.10/dist-packages (from pettingzoo[atari]) (0.1.11)\n",
            "Requirement already satisfied: pygame==2.3.0 in /usr/local/lib/python3.10/dist-packages (from pettingzoo[atari]) (2.3.0)\n",
            "Requirement already satisfied: cloudpickle>=1.2.0 in /usr/local/lib/python3.10/dist-packages (from gymnasium>=0.28.0->pettingzoo[atari]) (2.2.1)\n",
            "Requirement already satisfied: typing-extensions>=4.3.0 in /usr/local/lib/python3.10/dist-packages (from gymnasium>=0.28.0->pettingzoo[atari]) (4.12.0)\n",
            "Requirement already satisfied: farama-notifications>=0.0.1 in /usr/local/lib/python3.10/dist-packages (from gymnasium>=0.28.0->pettingzoo[atari]) (0.0.4)\n",
            "Requirement already satisfied: autorom in /usr/local/lib/python3.10/dist-packages (0.6.1)\n",
            "Requirement already satisfied: click in /usr/local/lib/python3.10/dist-packages (from autorom) (8.1.7)\n",
            "Requirement already satisfied: requests in /usr/local/lib/python3.10/dist-packages (from autorom) (2.31.0)\n",
            "Requirement already satisfied: charset-normalizer<4,>=2 in /usr/local/lib/python3.10/dist-packages (from requests->autorom) (3.3.2)\n",
            "Requirement already satisfied: idna<4,>=2.5 in /usr/local/lib/python3.10/dist-packages (from requests->autorom) (3.7)\n",
            "Requirement already satisfied: urllib3<3,>=1.21.1 in /usr/local/lib/python3.10/dist-packages (from requests->autorom) (2.0.7)\n",
            "Requirement already satisfied: certifi>=2017.4.17 in /usr/local/lib/python3.10/dist-packages (from requests->autorom) (2024.2.2)\n",
            "Reading package lists... Done\n",
            "Building dependency tree... Done\n",
            "Reading state information... Done\n",
            "ffmpeg is already the newest version (7:4.4.2-0ubuntu0.22.04.1).\n",
            "0 upgraded, 0 newly installed, 0 to remove and 46 not upgraded.\n",
            "Requirement already satisfied: moviepy in /usr/local/lib/python3.10/dist-packages (1.0.3)\n",
            "Requirement already satisfied: decorator<5.0,>=4.0.2 in /usr/local/lib/python3.10/dist-packages (from moviepy) (4.4.2)\n",
            "Requirement already satisfied: tqdm<5.0,>=4.11.2 in /usr/local/lib/python3.10/dist-packages (from moviepy) (4.66.4)\n",
            "Requirement already satisfied: requests<3.0,>=2.8.1 in /usr/local/lib/python3.10/dist-packages (from moviepy) (2.31.0)\n",
            "Requirement already satisfied: proglog<=1.0.0 in /usr/local/lib/python3.10/dist-packages (from moviepy) (0.1.10)\n",
            "Requirement already satisfied: numpy>=1.17.3 in /usr/local/lib/python3.10/dist-packages (from moviepy) (1.25.2)\n",
            "Requirement already satisfied: imageio<3.0,>=2.5 in /usr/local/lib/python3.10/dist-packages (from moviepy) (2.31.6)\n",
            "Requirement already satisfied: imageio-ffmpeg>=0.2.0 in /usr/local/lib/python3.10/dist-packages (from moviepy) (0.4.9)\n",
            "Requirement already satisfied: pillow<10.1.0,>=8.3.2 in /usr/local/lib/python3.10/dist-packages (from imageio<3.0,>=2.5->moviepy) (9.4.0)\n",
            "Requirement already satisfied: setuptools in /usr/local/lib/python3.10/dist-packages (from imageio-ffmpeg>=0.2.0->moviepy) (67.7.2)\n",
            "Requirement already satisfied: charset-normalizer<4,>=2 in /usr/local/lib/python3.10/dist-packages (from requests<3.0,>=2.8.1->moviepy) (3.3.2)\n",
            "Requirement already satisfied: idna<4,>=2.5 in /usr/local/lib/python3.10/dist-packages (from requests<3.0,>=2.8.1->moviepy) (3.7)\n",
            "Requirement already satisfied: urllib3<3,>=1.21.1 in /usr/local/lib/python3.10/dist-packages (from requests<3.0,>=2.8.1->moviepy) (2.0.7)\n",
            "Requirement already satisfied: certifi>=2017.4.17 in /usr/local/lib/python3.10/dist-packages (from requests<3.0,>=2.8.1->moviepy) (2024.2.2)\n",
            "Hit:1 https://developer.download.nvidia.com/compute/cuda/repos/ubuntu2204/x86_64  InRelease\n",
            "Hit:2 https://cloud.r-project.org/bin/linux/ubuntu jammy-cran40/ InRelease\n",
            "Hit:3 http://security.ubuntu.com/ubuntu jammy-security InRelease\n",
            "Hit:4 http://archive.ubuntu.com/ubuntu jammy InRelease\n",
            "Hit:5 http://archive.ubuntu.com/ubuntu jammy-updates InRelease\n",
            "Hit:6 https://ppa.launchpadcontent.net/c2d4u.team/c2d4u4.0+/ubuntu jammy InRelease\n",
            "Hit:7 http://archive.ubuntu.com/ubuntu jammy-backports InRelease\n",
            "Hit:8 https://ppa.launchpadcontent.net/deadsnakes/ppa/ubuntu jammy InRelease\n",
            "Hit:9 https://ppa.launchpadcontent.net/graphics-drivers/ppa/ubuntu jammy InRelease\n",
            "Hit:10 https://ppa.launchpadcontent.net/ubuntugis/ppa/ubuntu jammy InRelease\n",
            "Reading package lists... Done\n"
          ]
        }
      ],
      "source": [
        "!pip install pettingzoo[atari]\n",
        "!pip install stable-baselines3>=2.0.0\n",
        "!pip install supersuit>=3.9.0\n",
        "!pip install autorom\n",
        "!apt-get install -y ffmpeg\n",
        "!pip install moviepy\n",
        "!apt-get update\n"
      ]
    },
    {
      "cell_type": "code",
      "execution_count": 10,
      "metadata": {
        "colab": {
          "base_uri": "https://localhost:8080/"
        },
        "id": "pM0Th44Xa5L7",
        "outputId": "dd0fbf12-bf0c-4425-d8c2-59ce143ec43b"
      },
      "outputs": [
        {
          "output_type": "stream",
          "name": "stdout",
          "text": [
            "AutoROM will download the Atari 2600 ROMs.\n",
            "They will be installed to:\n",
            "\t/usr/local/lib/python3.10/dist-packages/AutoROM/roms\n",
            "\t/usr/local/lib/python3.10/dist-packages/multi_agent_ale_py/roms\n",
            "\n",
            "Existing ROMs will be overwritten.\n"
          ]
        }
      ],
      "source": [
        "!AutoROM --accept-license"
      ]
    },
    {
      "cell_type": "code",
      "source": [
        "from google.colab import drive\n",
        "drive.mount('/content/drive')\n",
        "\n",
        "from pettingzoo.atari import tennis_v3\n",
        "from stable_baselines3 import PPO\n",
        "from stable_baselines3.common.vec_env import VecVideoRecorder, DummyVecEnv\n",
        "import supersuit as ss\n",
        "from IPython.display import HTML\n",
        "from base64 import b64encode\n",
        "import numpy as np\n",
        "import os\n",
        "import csv\n",
        "import matplotlib.pyplot as plt\n",
        "from stable_baselines3.common.monitor import Monitor\n",
        "\n",
        "\n",
        "# Create the parallel environment with render_mode set to 'rgb_array'\n",
        "env = tennis_v3.parallel_env(render_mode='rgb_array')\n",
        "env = ss.color_reduction_v0(env, mode='B')\n",
        "env = ss.resize_v1(env, x_size=84, y_size=84)\n",
        "env = ss.frame_stack_v1(env, 3)\n",
        "\n",
        "# Convert ParallelEnv to VecEnv\n",
        "vec_env = ss.pettingzoo_env_to_vec_env_v1(env)\n",
        "vec_env = ss.concat_vec_envs_v1(vec_env, 1, num_cpus=1, base_class='stable_baselines3')\n",
        "\n",
        "\n",
        "# Define paths for saving models and evaluation results\n",
        "left_model_path = \"/content/drive/MyDrive/ppo_tennis_left_test\"\n",
        "right_model_path = \"/content/drive/MyDrive/ppo_tennis_right_test\"\n",
        "evaluation_results_path = \"/content/drive/MyDrive/evaluation_results_test.csv\""
      ],
      "metadata": {
        "colab": {
          "base_uri": "https://localhost:8080/"
        },
        "id": "sHuBZ2IIhTJ6",
        "outputId": "68a0aac7-e380-432c-d872-6ffe4870f453"
      },
      "execution_count": 11,
      "outputs": [
        {
          "output_type": "stream",
          "name": "stdout",
          "text": [
            "Drive already mounted at /content/drive; to attempt to forcibly remount, call drive.mount(\"/content/drive\", force_remount=True).\n"
          ]
        }
      ]
    },
    {
      "cell_type": "code",
      "source": [
        "# Load or create models for both agents\n",
        "if os.path.exists(left_model_path + \".zip\") and os.path.exists(right_model_path + \".zip\"):\n",
        "  model_left = PPO.load(left_model_path, env= vec_env)\n",
        "  model_right = PPO.load(right_model_path, env= vec_env)\n",
        "else:\n",
        "  model_left = PPO(\"CnnPolicy\", vec_env, verbose=1)\n",
        "  model_right = PPO(\"CnnPolicy\", vec_env, verbose=1)\n"
      ],
      "metadata": {
        "colab": {
          "base_uri": "https://localhost:8080/"
        },
        "id": "FFy4vc55hqoq",
        "outputId": "38c05cd2-3c9b-415d-de8b-2e478327b148"
      },
      "execution_count": 12,
      "outputs": [
        {
          "output_type": "stream",
          "name": "stdout",
          "text": [
            "Using cpu device\n",
            "Wrapping the env in a VecTransposeImage.\n",
            "Using cpu device\n",
            "Wrapping the env in a VecTransposeImage.\n"
          ]
        }
      ]
    },
    {
      "cell_type": "code",
      "source": [
        "\"\"\"\n",
        "# Function to save evaluation results to a CSV file\n",
        "def save_evaluation_results(filename, iteration, avg_reward_left, avg_reward_right):\n",
        "    file_exists = os.path.isfile(filename)\n",
        "    with open(filename, 'a', newline='') as csvfile:\n",
        "        fieldnames = ['iteration', 'avg_reward_left', 'avg_reward_right']\n",
        "        writer = csv.DictWriter(csvfile, fieldnames=fieldnames)\n",
        "        if not file_exists:\n",
        "            writer.writeheader()  # file doesn't exist yet, write a header\n",
        "        writer.writerow({'iteration': iteration, 'avg_reward_left': avg_reward_left, 'avg_reward_right': avg_reward_right})\n",
        "\n",
        "# Function to load evaluation results from a CSV file\n",
        "def load_evaluation_results(filename):\n",
        "    iterations = []\n",
        "    avg_rewards_left = []\n",
        "    avg_rewards_right = []\n",
        "    if os.path.isfile(filename):\n",
        "        with open(filename, 'r') as csvfile:\n",
        "            reader = csv.DictReader(csvfile)\n",
        "            for row in reader:\n",
        "                iterations.append(int(row['iteration']))\n",
        "                avg_rewards_left.append(float(row['avg_reward_left']))\n",
        "                avg_rewards_right.append(float(row['avg_reward_right']))\n",
        "    return iterations, avg_rewards_left, avg_rewards_right\n",
        "\n",
        "\"\"\""
      ],
      "metadata": {
        "id": "12FiaC4H82sf"
      },
      "execution_count": null,
      "outputs": []
    },
    {
      "cell_type": "code",
      "source": [
        "\"\"\"\n",
        "# Function to evaluate the performance of the agents\n",
        "def evaluate_self_play(model_left, model_right, env, n_eval_episodes):\n",
        "    total_rewards_left = []\n",
        "    total_rewards_right = []\n",
        "\n",
        "    for episode in range(n_eval_episodes):\n",
        "        obs = env.reset()\n",
        "        done = [False, False]\n",
        "        episode_rewards_left = 0\n",
        "        episode_rewards_right = 0\n",
        "\n",
        "        while not all(done):\n",
        "            action_left, _ = model_left.predict(obs[0], deterministic=True)\n",
        "            action_right, _ = model_right.predict(obs[1], deterministic=True)\n",
        "            obs, rewards, dones, _ = env.step([action_left, action_right])\n",
        "            episode_rewards_left += rewards[0]\n",
        "            episode_rewards_right += rewards[1]\n",
        "            done = dones\n",
        "\n",
        "        total_rewards_left.append(episode_rewards_left)\n",
        "        total_rewards_right.append(episode_rewards_right)\n",
        "\n",
        "    avg_reward_left = np.mean(total_rewards_left)\n",
        "    avg_reward_right = np.mean(total_rewards_right)\n",
        "\n",
        "    return avg_reward_left, avg_reward_right\n",
        "\n",
        " \"\"\""
      ],
      "metadata": {
        "id": "KIvLK1Xo1MTF"
      },
      "execution_count": null,
      "outputs": []
    },
    {
      "cell_type": "code",
      "source": [
        "model_left = PPO.load(\"/content/drive/My Drive/ppo_tennis_left_test\", env=vec_env)\n",
        "model_right = PPO.load(\"/content/drive/My Drive/ppo_tennis_left_test\", env=vec_env)"
      ],
      "metadata": {
        "colab": {
          "base_uri": "https://localhost:8080/"
        },
        "id": "MzwGg_7IEJ28",
        "outputId": "f1e72b78-aa86-402c-baf8-54cce37b5785"
      },
      "execution_count": null,
      "outputs": [
        {
          "output_type": "stream",
          "name": "stdout",
          "text": [
            "Wrapping the env in a VecTransposeImage.\n",
            "Wrapping the env in a VecTransposeImage.\n"
          ]
        }
      ]
    },
    {
      "cell_type": "code",
      "source": [
        "# Load previous evaluation results if they exist\n",
        "#iterations, avg_rewards_left, avg_rewards_right = load_evaluation_results(evaluation_results_path)\n",
        "\n",
        "# Train the agents using self-play\n",
        "total_timesteps = 2000\n",
        "\n",
        "for i in range(1):  # 30 iterations of self-play training\n",
        "    print(f\"Self-play iteration {i+1}\")\n",
        "\n",
        "    # Train the left agent\n",
        "    model_left.learn(total_timesteps=total_timesteps)\n",
        "    model_left.save(left_model_path)  # Save the left agent\n",
        "\n",
        "    # Train the right agent\n",
        "    model_right.learn(total_timesteps=total_timesteps)\n",
        "    model_right.save(right_model_path)  # Save the right agent\n",
        "\n",
        "\n",
        "    # Reinitialize the environment for evaluation (to avoid wrapping issues)\n",
        "    #eval_env = DummyVecEnv([lambda: tennis_v3.env()])\n",
        "    #eval_env = Monitor(eval_env)\n",
        "\n",
        "\n",
        "      # Evaluate both agents\n",
        "    #avg_reward_left, avg_reward_right = evaluate_self_play(model_left, model_right, eval_env, n_eval_episodes=10)\n",
        "\n",
        "    #iterations.append(i + 1)\n",
        "    #avg_rewards_left.append(avg_reward_left)\n",
        "    #avg_rewards_right.append(avg_reward_right)\n",
        "    #print(f\"Evaluation after iteration {i+1}: Left Agent Avg Reward: {avg_reward_left}, Right Agent Avg Reward: {avg_reward_right}\")\n",
        "    #save_evaluation_results(evaluation_results_path, i + 1, avg_reward_left, avg_reward_right)\n",
        "\n"
      ],
      "metadata": {
        "colab": {
          "base_uri": "https://localhost:8080/"
        },
        "id": "RuNXSSkGhxLJ",
        "outputId": "64007117-f825-4567-d887-066715730d99"
      },
      "execution_count": 13,
      "outputs": [
        {
          "output_type": "stream",
          "name": "stdout",
          "text": [
            "Self-play iteration 1\n",
            "-----------------------------\n",
            "| time/              |      |\n",
            "|    fps             | 563  |\n",
            "|    iterations      | 1    |\n",
            "|    time_elapsed    | 7    |\n",
            "|    total_timesteps | 4096 |\n",
            "-----------------------------\n",
            "-----------------------------\n",
            "| time/              |      |\n",
            "|    fps             | 458  |\n",
            "|    iterations      | 1    |\n",
            "|    time_elapsed    | 8    |\n",
            "|    total_timesteps | 4096 |\n",
            "-----------------------------\n"
          ]
        }
      ]
    },
    {
      "cell_type": "code",
      "source": [
        "\"\"\"\n",
        "# Load previous evaluation results if they exist\n",
        "iterations, avg_rewards_left, avg_rewards_right = load_evaluation_results(evaluation_results_path)\n",
        "# Plot the results\n",
        "plt.figure(figsize=(12, 6))\n",
        "plt.plot(iterations, avg_rewards_left, label='Left Agent')\n",
        "plt.plot(iterations, avg_rewards_right, label='Right Agent')\n",
        "plt.xlabel('Iterations')\n",
        "plt.ylabel('Average Reward')\n",
        "plt.title('Training Progress')\n",
        "plt.legend()\n",
        "plt.show()\n",
        "\n",
        "\"\"\""
      ],
      "metadata": {
        "id": "U2f0kcWeAON4"
      },
      "execution_count": null,
      "outputs": []
    },
    {
      "cell_type": "code",
      "source": [
        "# Load and test the models\n",
        "model_left = PPO.load(\"/content/drive/My Drive/ppo_tennis_left_test\", env=vec_env)\n",
        "model_right = PPO.load(\"/content/drive/My Drive/ppo_tennis_left_test\", env=vec_env)\n",
        "\n",
        "video_folder = \"logs/videos/\"\n",
        "os.makedirs(video_folder, exist_ok=True)\n",
        "video_length = 1000\n",
        "env_id = \"tennis_v3\"\n",
        "\n",
        "# Wrap the environment with VecVideoRecorder\n",
        "recording_env = VecVideoRecorder(\n",
        "    vec_env, video_folder,\n",
        "    record_video_trigger=lambda x: x == 0, video_length=video_length,\n",
        "    name_prefix=f\"trained-agent-{env_id}\"\n",
        ")"
      ],
      "metadata": {
        "colab": {
          "base_uri": "https://localhost:8080/"
        },
        "id": "gPnizMIdiNKB",
        "outputId": "0dd2ffe5-84bf-4381-8de9-c1ff1d09ec8d"
      },
      "execution_count": 14,
      "outputs": [
        {
          "output_type": "stream",
          "name": "stdout",
          "text": [
            "Wrapping the env in a VecTransposeImage.\n",
            "Wrapping the env in a VecTransposeImage.\n"
          ]
        }
      ]
    },
    {
      "cell_type": "code",
      "source": [
        "# Reset the environment\n",
        "obs = recording_env.reset()\n",
        "\n",
        "# Run the environment for the specified number of steps using the trained model\n",
        "for _ in range(video_length + 1):\n",
        "    # Extract observations for each agent\n",
        "    obs_left = obs[0]\n",
        "    obs_right = obs[1]\n",
        "\n",
        "    # Get the actions for each agent\n",
        "    action_left, _ = model_left.predict(obs_left)\n",
        "    action_right, _ = model_right.predict(obs_right)\n",
        "\n",
        "    # Create the actions list\n",
        "    actions = [action_left, action_right]\n",
        "\n",
        "    # Step the environment with the combined actions\n",
        "    obs, _, _, _ = recording_env.step(actions)\n",
        "\n",
        "# Close the VecVideoRecorder and save the video\n",
        "recording_env.close()"
      ],
      "metadata": {
        "id": "8eqoHLTCiUzZ",
        "colab": {
          "base_uri": "https://localhost:8080/"
        },
        "outputId": "f90d7279-f034-4d17-a6d2-a99bdbfd0fca"
      },
      "execution_count": 15,
      "outputs": [
        {
          "output_type": "stream",
          "name": "stdout",
          "text": [
            "Saving video to /content/logs/videos/trained-agent-tennis_v3-step-0-to-step-1000.mp4\n",
            "Moviepy - Building video /content/logs/videos/trained-agent-tennis_v3-step-0-to-step-1000.mp4.\n",
            "Moviepy - Writing video /content/logs/videos/trained-agent-tennis_v3-step-0-to-step-1000.mp4\n",
            "\n"
          ]
        },
        {
          "output_type": "stream",
          "name": "stderr",
          "text": [
            "                                                                 "
          ]
        },
        {
          "output_type": "stream",
          "name": "stdout",
          "text": [
            "Moviepy - Done !\n",
            "Moviepy - video ready /content/logs/videos/trained-agent-tennis_v3-step-0-to-step-1000.mp4\n"
          ]
        },
        {
          "output_type": "stream",
          "name": "stderr",
          "text": [
            "\r"
          ]
        }
      ]
    },
    {
      "cell_type": "code",
      "source": [
        "# Function to display the video\n",
        "def show_video(video_path):\n",
        "    mp4 = open(video_path, 'rb').read()\n",
        "    data_url = \"data:video/mp4;base64,\" + b64encode(mp4).decode()\n",
        "    return HTML(f'<video width=\"480\" height=\"320\" controls><source src=\"{data_url}\" type=\"video/mp4\"></video>')\n",
        "\n",
        "# Display the video\n",
        "video_path = os.path.join(video_folder, f\"trained-agent-{env_id}-step-0-to-step-{video_length}.mp4\")\n",
        "show_video(video_path)"
      ],
      "metadata": {
        "id": "15sDxLhnie_8",
        "colab": {
          "base_uri": "https://localhost:8080/",
          "height": 341
        },
        "outputId": "6a8643e3-5bfd-4d8a-bccc-b9ecb74fdee5"
      },
      "execution_count": 16,
      "outputs": [
        {
          "output_type": "execute_result",
          "data": {
            "text/plain": [
              "<IPython.core.display.HTML object>"
            ],
            "text/html": [
              "<video width=\"480\" height=\"320\" controls><source src=\"data:video/mp4;base64,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\" type=\"video/mp4\"></video>"
            ]
          },
          "metadata": {},
          "execution_count": 16
        }
      ]
    }
  ],
  "metadata": {
    "colab": {
      "provenance": [],
      "authorship_tag": "ABX9TyP3BMeOBZ/wkaEmXauRmmxl",
      "include_colab_link": true
    },
    "kernelspec": {
      "display_name": "Python 3",
      "name": "python3"
    },
    "language_info": {
      "name": "python"
    }
  },
  "nbformat": 4,
  "nbformat_minor": 0
}