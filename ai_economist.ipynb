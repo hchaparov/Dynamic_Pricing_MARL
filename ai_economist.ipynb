{
  "nbformat": 4,
  "nbformat_minor": 0,
  "metadata": {
    "colab": {
      "provenance": [],
      "include_colab_link": true
    },
    "kernelspec": {
      "name": "python3",
      "display_name": "Python 3"
    },
    "language_info": {
      "name": "python"
    }
  },
  "cells": [
    {
      "cell_type": "markdown",
      "metadata": {
        "id": "view-in-github",
        "colab_type": "text"
      },
      "source": [
        "<a href=\"https://colab.research.google.com/github/hchaparov/Dynamic_Pricing_MARL/blob/main/ai_economist.ipynb\" target=\"_parent\"><img src=\"https://colab.research.google.com/assets/colab-badge.svg\" alt=\"Open In Colab\"/></a>"
      ]
    },
    {
      "cell_type": "code",
      "execution_count": null,
      "metadata": {
        "colab": {
          "base_uri": "https://localhost:8080/"
        },
        "id": "4LNQApT801DS",
        "outputId": "48cc6553-8401-41e9-e30b-c073cc047b9b"
      },
      "outputs": [
        {
          "output_type": "stream",
          "name": "stdout",
          "text": [
            "Mounted at /content/drive\n"
          ]
        }
      ],
      "source": [
        "from google.colab import drive\n",
        "drive.mount('/content/drive')"
      ]
    },
    {
      "cell_type": "code",
      "source": [
        "import os, signal, sys, time\n",
        "IN_COLAB = 'google.colab' in sys.modules\n",
        "\n",
        "if IN_COLAB:\n",
        "    # Install the necessary system dependencies\n",
        "    !apt-get install -y libffi-dev libssl-dev\n",
        "\n",
        "    # Clone the AI Economist repository\n",
        "    !git clone https://github.com/salesforce/ai-economist.git\n",
        "\n",
        "    # Navigate into the cloned directory\n",
        "    %cd ai-economist\n",
        "\n",
        "    !pip install \"cython<3.0.0\" && pip install --no-build-isolation pyyaml==5.4.1\n",
        "\n",
        "    # Update the requirements.txt to remove specific version constraints\n",
        "    !sed -i 's/requests==2.25.1/requests/g' requirements.txt\n",
        "    !sed -i 's/scipy==1.6.3/scipy/g' requirements.txt\n",
        "    !pip install -r requirements.txt\n",
        "\n",
        "\n",
        "\n",
        "    # Install the required Python dependencies\n",
        "    !pip install -e .\n",
        "\n",
        "    # Restart the Python runtime to automatically use the installed packages\n",
        "    print(\"\\n\\nRestarting the Python runtime! Please (re-)run the cells below.\")\n",
        "    time.sleep(1)\n",
        "    os.kill(os.getpid(), signal.SIGKILL)\n",
        "else:\n",
        "    print(\"This script is designed to run in Google Colab.\")"
      ],
      "metadata": {
        "id": "oTRYNIFY5ilU",
        "colab": {
          "base_uri": "https://localhost:8080/"
        },
        "outputId": "b25a9186-bf70-4114-e529-192e3ac09d3e"
      },
      "execution_count": null,
      "outputs": [
        {
          "output_type": "stream",
          "name": "stdout",
          "text": [
            "Reading package lists... Done\n",
            "Building dependency tree... Done\n",
            "Reading state information... Done\n",
            "libffi-dev is already the newest version (3.4.2-4).\n",
            "libssl-dev is already the newest version (3.0.2-0ubuntu1.15).\n",
            "0 upgraded, 0 newly installed, 0 to remove and 45 not upgraded.\n",
            "fatal: destination path 'ai-economist' already exists and is not an empty directory.\n",
            "/content/ai-economist\n",
            "Requirement already satisfied: cython<3.0.0 in /usr/local/lib/python3.10/dist-packages (0.29.37)\n",
            "Requirement already satisfied: pyyaml==5.4.1 in /usr/local/lib/python3.10/dist-packages (5.4.1)\n",
            "Requirement already satisfied: appdirs==1.4.4 in /usr/local/lib/python3.10/dist-packages (from -r requirements.txt (line 1)) (1.4.4)\n",
            "Requirement already satisfied: appnope==0.1.2 in /usr/local/lib/python3.10/dist-packages (from -r requirements.txt (line 2)) (0.1.2)\n",
            "Requirement already satisfied: argon2-cffi==20.1.0 in /usr/local/lib/python3.10/dist-packages (from -r requirements.txt (line 3)) (20.1.0)\n",
            "Requirement already satisfied: astroid==2.5.6 in /usr/local/lib/python3.10/dist-packages (from -r requirements.txt (line 4)) (2.5.6)\n",
            "Requirement already satisfied: async-generator==1.10 in /usr/local/lib/python3.10/dist-packages (from -r requirements.txt (line 5)) (1.10)\n",
            "Requirement already satisfied: attrs==21.2.0 in /usr/local/lib/python3.10/dist-packages (from -r requirements.txt (line 6)) (21.2.0)\n",
            "Requirement already satisfied: backcall==0.2.0 in /usr/local/lib/python3.10/dist-packages (from -r requirements.txt (line 7)) (0.2.0)\n",
            "Requirement already satisfied: beautifulsoup4==4.9.3 in /usr/local/lib/python3.10/dist-packages (from -r requirements.txt (line 8)) (4.9.3)\n",
            "Requirement already satisfied: black==21.5b1 in /usr/local/lib/python3.10/dist-packages (from -r requirements.txt (line 9)) (21.5b1)\n",
            "Requirement already satisfied: bleach==3.3.0 in /usr/local/lib/python3.10/dist-packages (from -r requirements.txt (line 10)) (3.3.0)\n",
            "Requirement already satisfied: bs4==0.0.1 in /usr/local/lib/python3.10/dist-packages (from -r requirements.txt (line 11)) (0.0.1)\n",
            "Requirement already satisfied: certifi==2020.12.5 in /usr/local/lib/python3.10/dist-packages (from -r requirements.txt (line 12)) (2020.12.5)\n",
            "Requirement already satisfied: cffi==1.14.5 in /usr/local/lib/python3.10/dist-packages (from -r requirements.txt (line 13)) (1.14.5)\n",
            "Requirement already satisfied: chardet==4.0.0 in /usr/local/lib/python3.10/dist-packages (from -r requirements.txt (line 14)) (4.0.0)\n",
            "Requirement already satisfied: click==8.0.1 in /usr/local/lib/python3.10/dist-packages (from -r requirements.txt (line 15)) (8.0.1)\n",
            "Requirement already satisfied: cycler==0.10.0 in /usr/local/lib/python3.10/dist-packages (from -r requirements.txt (line 16)) (0.10.0)\n",
            "Requirement already satisfied: decorator==5.0.9 in /usr/local/lib/python3.10/dist-packages (from -r requirements.txt (line 17)) (5.0.9)\n",
            "Requirement already satisfied: defusedxml==0.7.1 in /usr/local/lib/python3.10/dist-packages (from -r requirements.txt (line 18)) (0.7.1)\n",
            "Requirement already satisfied: entrypoints==0.3 in /usr/local/lib/python3.10/dist-packages (from -r requirements.txt (line 19)) (0.3)\n",
            "Requirement already satisfied: et-xmlfile==1.1.0 in /usr/local/lib/python3.10/dist-packages (from -r requirements.txt (line 20)) (1.1.0)\n",
            "Requirement already satisfied: flake8==3.9.2 in /usr/local/lib/python3.10/dist-packages (from -r requirements.txt (line 21)) (3.9.2)\n",
            "Requirement already satisfied: GPUtil==1.4.0 in /usr/local/lib/python3.10/dist-packages (from -r requirements.txt (line 22)) (1.4.0)\n",
            "Requirement already satisfied: idna==2.10 in /usr/local/lib/python3.10/dist-packages (from -r requirements.txt (line 23)) (2.10)\n",
            "Requirement already satisfied: iniconfig==1.1.1 in /usr/local/lib/python3.10/dist-packages (from -r requirements.txt (line 24)) (1.1.1)\n",
            "Requirement already satisfied: ipykernel==5.5.5 in /usr/local/lib/python3.10/dist-packages (from -r requirements.txt (line 25)) (5.5.5)\n",
            "Requirement already satisfied: ipython==7.31.1 in /usr/local/lib/python3.10/dist-packages (from -r requirements.txt (line 26)) (7.31.1)\n",
            "Requirement already satisfied: ipython-genutils==0.2.0 in /usr/local/lib/python3.10/dist-packages (from -r requirements.txt (line 27)) (0.2.0)\n",
            "Requirement already satisfied: ipywidgets==7.6.3 in /usr/local/lib/python3.10/dist-packages (from -r requirements.txt (line 28)) (7.6.3)\n",
            "Requirement already satisfied: isort==5.8.0 in /usr/local/lib/python3.10/dist-packages (from -r requirements.txt (line 29)) (5.8.0)\n",
            "Requirement already satisfied: jedi==0.18.0 in /usr/local/lib/python3.10/dist-packages (from -r requirements.txt (line 30)) (0.18.0)\n",
            "Requirement already satisfied: Jinja2==3.0.1 in /usr/local/lib/python3.10/dist-packages (from -r requirements.txt (line 31)) (3.0.1)\n",
            "Requirement already satisfied: jsonschema==3.2.0 in /usr/local/lib/python3.10/dist-packages (from -r requirements.txt (line 32)) (3.2.0)\n",
            "Requirement already satisfied: jupyter==1.0.0 in /usr/local/lib/python3.10/dist-packages (from -r requirements.txt (line 33)) (1.0.0)\n",
            "Requirement already satisfied: jupyter-client==6.1.12 in /usr/local/lib/python3.10/dist-packages (from -r requirements.txt (line 34)) (6.1.12)\n",
            "Requirement already satisfied: jupyter-console==6.4.0 in /usr/local/lib/python3.10/dist-packages (from -r requirements.txt (line 35)) (6.4.0)\n",
            "Requirement already satisfied: jupyter-core==4.7.1 in /usr/local/lib/python3.10/dist-packages (from -r requirements.txt (line 36)) (4.7.1)\n",
            "Requirement already satisfied: jupyterlab-pygments==0.1.2 in /usr/local/lib/python3.10/dist-packages (from -r requirements.txt (line 37)) (0.1.2)\n",
            "Requirement already satisfied: jupyterlab-widgets==1.0.0 in /usr/local/lib/python3.10/dist-packages (from -r requirements.txt (line 38)) (1.0.0)\n",
            "Requirement already satisfied: kiwisolver==1.3.1 in /usr/local/lib/python3.10/dist-packages (from -r requirements.txt (line 39)) (1.3.1)\n",
            "Requirement already satisfied: lazy-object-proxy==1.6.0 in /usr/local/lib/python3.10/dist-packages (from -r requirements.txt (line 40)) (1.6.0)\n",
            "Requirement already satisfied: lz4==3.1.3 in /usr/local/lib/python3.10/dist-packages (from -r requirements.txt (line 41)) (3.1.3)\n",
            "Requirement already satisfied: MarkupSafe==2.0.1 in /usr/local/lib/python3.10/dist-packages (from -r requirements.txt (line 42)) (2.0.1)\n",
            "Requirement already satisfied: matplotlib==3.2.1 in /usr/local/lib/python3.10/dist-packages (from -r requirements.txt (line 43)) (3.2.1)\n",
            "Requirement already satisfied: matplotlib-inline==0.1.2 in /usr/local/lib/python3.10/dist-packages (from -r requirements.txt (line 44)) (0.1.2)\n",
            "Requirement already satisfied: mccabe==0.6.1 in /usr/local/lib/python3.10/dist-packages (from -r requirements.txt (line 45)) (0.6.1)\n",
            "Requirement already satisfied: mistune==0.8.4 in /usr/local/lib/python3.10/dist-packages (from -r requirements.txt (line 46)) (0.8.4)\n",
            "Requirement already satisfied: mypy-extensions==0.4.3 in /usr/local/lib/python3.10/dist-packages (from -r requirements.txt (line 47)) (0.4.3)\n",
            "Requirement already satisfied: nbclient==0.5.3 in /usr/local/lib/python3.10/dist-packages (from -r requirements.txt (line 48)) (0.5.3)\n",
            "Requirement already satisfied: nbconvert==6.0.7 in /usr/local/lib/python3.10/dist-packages (from -r requirements.txt (line 49)) (6.0.7)\n",
            "Requirement already satisfied: nbformat==5.1.3 in /usr/local/lib/python3.10/dist-packages (from -r requirements.txt (line 50)) (5.1.3)\n",
            "Requirement already satisfied: nest-asyncio==1.5.1 in /usr/local/lib/python3.10/dist-packages (from -r requirements.txt (line 51)) (1.5.1)\n",
            "Requirement already satisfied: notebook==6.4.1 in /usr/local/lib/python3.10/dist-packages (from -r requirements.txt (line 52)) (6.4.1)\n",
            "Requirement already satisfied: numpy==1.21.0 in /usr/local/lib/python3.10/dist-packages (from -r requirements.txt (line 53)) (1.21.0)\n",
            "Requirement already satisfied: openpyxl==3.0.7 in /usr/local/lib/python3.10/dist-packages (from -r requirements.txt (line 54)) (3.0.7)\n",
            "Requirement already satisfied: packaging==20.9 in /usr/local/lib/python3.10/dist-packages (from -r requirements.txt (line 55)) (20.9)\n",
            "Requirement already satisfied: pandas==1.2.4 in /usr/local/lib/python3.10/dist-packages (from -r requirements.txt (line 56)) (1.2.4)\n",
            "Requirement already satisfied: pandocfilters==1.4.3 in /usr/local/lib/python3.10/dist-packages (from -r requirements.txt (line 57)) (1.4.3)\n",
            "Requirement already satisfied: parso==0.8.2 in /usr/local/lib/python3.10/dist-packages (from -r requirements.txt (line 58)) (0.8.2)\n",
            "Requirement already satisfied: pathspec==0.8.1 in /usr/local/lib/python3.10/dist-packages (from -r requirements.txt (line 59)) (0.8.1)\n",
            "Requirement already satisfied: pexpect==4.8.0 in /usr/local/lib/python3.10/dist-packages (from -r requirements.txt (line 60)) (4.8.0)\n",
            "Requirement already satisfied: pickleshare==0.7.5 in /usr/local/lib/python3.10/dist-packages (from -r requirements.txt (line 61)) (0.7.5)\n",
            "Requirement already satisfied: Pillow==9.0.1 in /usr/local/lib/python3.10/dist-packages (from -r requirements.txt (line 62)) (9.0.1)\n",
            "Requirement already satisfied: pluggy==0.13.1 in /usr/local/lib/python3.10/dist-packages (from -r requirements.txt (line 63)) (0.13.1)\n",
            "Requirement already satisfied: prometheus-client==0.10.1 in /usr/local/lib/python3.10/dist-packages (from -r requirements.txt (line 64)) (0.10.1)\n",
            "Requirement already satisfied: prompt-toolkit==3.0.18 in /usr/local/lib/python3.10/dist-packages (from -r requirements.txt (line 65)) (3.0.18)\n",
            "Requirement already satisfied: ptyprocess==0.7.0 in /usr/local/lib/python3.10/dist-packages (from -r requirements.txt (line 66)) (0.7.0)\n",
            "Requirement already satisfied: py==1.10.0 in /usr/local/lib/python3.10/dist-packages (from -r requirements.txt (line 67)) (1.10.0)\n",
            "Requirement already satisfied: pycodestyle==2.7.0 in /usr/local/lib/python3.10/dist-packages (from -r requirements.txt (line 68)) (2.7.0)\n",
            "Requirement already satisfied: pycparser==2.20 in /usr/local/lib/python3.10/dist-packages (from -r requirements.txt (line 69)) (2.20)\n",
            "Requirement already satisfied: pycryptodome==3.10.1 in /usr/local/lib/python3.10/dist-packages (from -r requirements.txt (line 70)) (3.10.1)\n",
            "Requirement already satisfied: pyflakes==2.3.1 in /usr/local/lib/python3.10/dist-packages (from -r requirements.txt (line 71)) (2.3.1)\n",
            "Requirement already satisfied: Pygments==2.9.0 in /usr/local/lib/python3.10/dist-packages (from -r requirements.txt (line 72)) (2.9.0)\n",
            "Requirement already satisfied: pylint==2.8.2 in /usr/local/lib/python3.10/dist-packages (from -r requirements.txt (line 73)) (2.8.2)\n",
            "Requirement already satisfied: pyparsing==2.4.7 in /usr/local/lib/python3.10/dist-packages (from -r requirements.txt (line 74)) (2.4.7)\n",
            "Requirement already satisfied: pyrsistent==0.17.3 in /usr/local/lib/python3.10/dist-packages (from -r requirements.txt (line 75)) (0.17.3)\n",
            "Requirement already satisfied: pytest==6.2.4 in /usr/local/lib/python3.10/dist-packages (from -r requirements.txt (line 76)) (6.2.4)\n",
            "Requirement already satisfied: python-dateutil==2.8.1 in /usr/local/lib/python3.10/dist-packages (from -r requirements.txt (line 77)) (2.8.1)\n",
            "Requirement already satisfied: pytz==2021.1 in /usr/local/lib/python3.10/dist-packages (from -r requirements.txt (line 78)) (2021.1)\n",
            "Requirement already satisfied: pyyaml==5.4.1 in /usr/local/lib/python3.10/dist-packages (from -r requirements.txt (line 79)) (5.4.1)\n",
            "Requirement already satisfied: pyzmq==22.0.3 in /usr/local/lib/python3.10/dist-packages (from -r requirements.txt (line 80)) (22.0.3)\n",
            "Requirement already satisfied: qtconsole==5.1.0 in /usr/local/lib/python3.10/dist-packages (from -r requirements.txt (line 81)) (5.1.0)\n",
            "Requirement already satisfied: QtPy==1.9.0 in /usr/local/lib/python3.10/dist-packages (from -r requirements.txt (line 82)) (1.9.0)\n",
            "Requirement already satisfied: regex==2021.4.4 in /usr/local/lib/python3.10/dist-packages (from -r requirements.txt (line 83)) (2021.4.4)\n",
            "Requirement already satisfied: requests in /usr/local/lib/python3.10/dist-packages (from -r requirements.txt (line 84)) (2.31.0)\n",
            "Requirement already satisfied: scipy in /usr/local/lib/python3.10/dist-packages (from -r requirements.txt (line 85)) (1.10.1)\n",
            "Requirement already satisfied: Send2Trash==1.5.0 in /usr/local/lib/python3.10/dist-packages (from -r requirements.txt (line 86)) (1.5.0)\n",
            "Requirement already satisfied: six==1.16.0 in /usr/local/lib/python3.10/dist-packages (from -r requirements.txt (line 87)) (1.16.0)\n",
            "Requirement already satisfied: soupsieve==2.2.1 in /usr/local/lib/python3.10/dist-packages (from -r requirements.txt (line 88)) (2.2.1)\n",
            "Requirement already satisfied: terminado==0.10.0 in /usr/local/lib/python3.10/dist-packages (from -r requirements.txt (line 89)) (0.10.0)\n",
            "Requirement already satisfied: testpath==0.5.0 in /usr/local/lib/python3.10/dist-packages (from -r requirements.txt (line 90)) (0.5.0)\n",
            "Requirement already satisfied: toml==0.10.2 in /usr/local/lib/python3.10/dist-packages (from -r requirements.txt (line 91)) (0.10.2)\n",
            "Requirement already satisfied: tornado==6.1 in /usr/local/lib/python3.10/dist-packages (from -r requirements.txt (line 92)) (6.1)\n",
            "Requirement already satisfied: tqdm==4.60.0 in /usr/local/lib/python3.10/dist-packages (from -r requirements.txt (line 93)) (4.60.0)\n",
            "Requirement already satisfied: traitlets==5.0.5 in /usr/local/lib/python3.10/dist-packages (from -r requirements.txt (line 94)) (5.0.5)\n",
            "Requirement already satisfied: typing-extensions==3.10.0.0 in /usr/local/lib/python3.10/dist-packages (from -r requirements.txt (line 95)) (3.10.0.0)\n",
            "Requirement already satisfied: urllib3==1.26.5 in /usr/local/lib/python3.10/dist-packages (from -r requirements.txt (line 96)) (1.26.5)\n",
            "Requirement already satisfied: wcwidth==0.2.5 in /usr/local/lib/python3.10/dist-packages (from -r requirements.txt (line 97)) (0.2.5)\n",
            "Requirement already satisfied: webencodings==0.5.1 in /usr/local/lib/python3.10/dist-packages (from -r requirements.txt (line 98)) (0.5.1)\n",
            "Requirement already satisfied: widgetsnbextension==3.5.1 in /usr/local/lib/python3.10/dist-packages (from -r requirements.txt (line 99)) (3.5.1)\n",
            "Requirement already satisfied: wrapt==1.12.1 in /usr/local/lib/python3.10/dist-packages (from -r requirements.txt (line 100)) (1.12.1)\n",
            "Requirement already satisfied: setuptools>=18.5 in /usr/local/lib/python3.10/dist-packages (from ipython==7.31.1->-r requirements.txt (line 26)) (67.7.2)\n",
            "Requirement already satisfied: charset-normalizer<4,>=2 in /usr/local/lib/python3.10/dist-packages (from requests->-r requirements.txt (line 84)) (3.3.2)\n",
            "Obtaining file:///content/ai-economist\n",
            "  Preparing metadata (setup.py) ... \u001b[?25l\u001b[?25hdone\n",
            "Requirement already satisfied: appdirs==1.4.4 in /usr/local/lib/python3.10/dist-packages (from ai-economist==1.7.1) (1.4.4)\n",
            "Requirement already satisfied: appnope==0.1.2 in /usr/local/lib/python3.10/dist-packages (from ai-economist==1.7.1) (0.1.2)\n",
            "Requirement already satisfied: argon2-cffi==20.1.0 in /usr/local/lib/python3.10/dist-packages (from ai-economist==1.7.1) (20.1.0)\n",
            "Requirement already satisfied: astroid==2.5.6 in /usr/local/lib/python3.10/dist-packages (from ai-economist==1.7.1) (2.5.6)\n",
            "Requirement already satisfied: async-generator==1.10 in /usr/local/lib/python3.10/dist-packages (from ai-economist==1.7.1) (1.10)\n",
            "Requirement already satisfied: attrs==21.2.0 in /usr/local/lib/python3.10/dist-packages (from ai-economist==1.7.1) (21.2.0)\n",
            "Requirement already satisfied: backcall==0.2.0 in /usr/local/lib/python3.10/dist-packages (from ai-economist==1.7.1) (0.2.0)\n",
            "Requirement already satisfied: beautifulsoup4==4.9.3 in /usr/local/lib/python3.10/dist-packages (from ai-economist==1.7.1) (4.9.3)\n",
            "Requirement already satisfied: black==21.5b1 in /usr/local/lib/python3.10/dist-packages (from ai-economist==1.7.1) (21.5b1)\n",
            "Requirement already satisfied: bleach==3.3.0 in /usr/local/lib/python3.10/dist-packages (from ai-economist==1.7.1) (3.3.0)\n",
            "Requirement already satisfied: bs4==0.0.1 in /usr/local/lib/python3.10/dist-packages (from ai-economist==1.7.1) (0.0.1)\n",
            "Requirement already satisfied: certifi==2020.12.5 in /usr/local/lib/python3.10/dist-packages (from ai-economist==1.7.1) (2020.12.5)\n",
            "Requirement already satisfied: cffi==1.14.5 in /usr/local/lib/python3.10/dist-packages (from ai-economist==1.7.1) (1.14.5)\n",
            "Requirement already satisfied: chardet==4.0.0 in /usr/local/lib/python3.10/dist-packages (from ai-economist==1.7.1) (4.0.0)\n",
            "Requirement already satisfied: click==8.0.1 in /usr/local/lib/python3.10/dist-packages (from ai-economist==1.7.1) (8.0.1)\n",
            "Requirement already satisfied: cycler==0.10.0 in /usr/local/lib/python3.10/dist-packages (from ai-economist==1.7.1) (0.10.0)\n",
            "Requirement already satisfied: decorator==5.0.9 in /usr/local/lib/python3.10/dist-packages (from ai-economist==1.7.1) (5.0.9)\n",
            "Requirement already satisfied: defusedxml==0.7.1 in /usr/local/lib/python3.10/dist-packages (from ai-economist==1.7.1) (0.7.1)\n",
            "Requirement already satisfied: entrypoints==0.3 in /usr/local/lib/python3.10/dist-packages (from ai-economist==1.7.1) (0.3)\n",
            "Requirement already satisfied: et-xmlfile==1.1.0 in /usr/local/lib/python3.10/dist-packages (from ai-economist==1.7.1) (1.1.0)\n",
            "Requirement already satisfied: flake8==3.9.2 in /usr/local/lib/python3.10/dist-packages (from ai-economist==1.7.1) (3.9.2)\n",
            "Requirement already satisfied: GPUtil==1.4.0 in /usr/local/lib/python3.10/dist-packages (from ai-economist==1.7.1) (1.4.0)\n",
            "Requirement already satisfied: idna==2.10 in /usr/local/lib/python3.10/dist-packages (from ai-economist==1.7.1) (2.10)\n",
            "Requirement already satisfied: iniconfig==1.1.1 in /usr/local/lib/python3.10/dist-packages (from ai-economist==1.7.1) (1.1.1)\n",
            "Requirement already satisfied: ipykernel==5.5.5 in /usr/local/lib/python3.10/dist-packages (from ai-economist==1.7.1) (5.5.5)\n",
            "Requirement already satisfied: ipython==7.31.1 in /usr/local/lib/python3.10/dist-packages (from ai-economist==1.7.1) (7.31.1)\n",
            "Requirement already satisfied: ipython-genutils==0.2.0 in /usr/local/lib/python3.10/dist-packages (from ai-economist==1.7.1) (0.2.0)\n",
            "Requirement already satisfied: ipywidgets==7.6.3 in /usr/local/lib/python3.10/dist-packages (from ai-economist==1.7.1) (7.6.3)\n",
            "Requirement already satisfied: isort==5.8.0 in /usr/local/lib/python3.10/dist-packages (from ai-economist==1.7.1) (5.8.0)\n",
            "Requirement already satisfied: jedi==0.18.0 in /usr/local/lib/python3.10/dist-packages (from ai-economist==1.7.1) (0.18.0)\n",
            "Requirement already satisfied: Jinja2==3.0.1 in /usr/local/lib/python3.10/dist-packages (from ai-economist==1.7.1) (3.0.1)\n",
            "Requirement already satisfied: jsonschema==3.2.0 in /usr/local/lib/python3.10/dist-packages (from ai-economist==1.7.1) (3.2.0)\n",
            "Requirement already satisfied: jupyter==1.0.0 in /usr/local/lib/python3.10/dist-packages (from ai-economist==1.7.1) (1.0.0)\n",
            "Requirement already satisfied: jupyter-client==6.1.12 in /usr/local/lib/python3.10/dist-packages (from ai-economist==1.7.1) (6.1.12)\n",
            "Requirement already satisfied: jupyter-console==6.4.0 in /usr/local/lib/python3.10/dist-packages (from ai-economist==1.7.1) (6.4.0)\n",
            "Requirement already satisfied: jupyter-core==4.7.1 in /usr/local/lib/python3.10/dist-packages (from ai-economist==1.7.1) (4.7.1)\n",
            "Requirement already satisfied: jupyterlab-pygments==0.1.2 in /usr/local/lib/python3.10/dist-packages (from ai-economist==1.7.1) (0.1.2)\n",
            "Requirement already satisfied: jupyterlab-widgets==1.0.0 in /usr/local/lib/python3.10/dist-packages (from ai-economist==1.7.1) (1.0.0)\n",
            "Requirement already satisfied: kiwisolver==1.3.1 in /usr/local/lib/python3.10/dist-packages (from ai-economist==1.7.1) (1.3.1)\n",
            "Requirement already satisfied: lazy-object-proxy==1.6.0 in /usr/local/lib/python3.10/dist-packages (from ai-economist==1.7.1) (1.6.0)\n",
            "Requirement already satisfied: lz4==3.1.3 in /usr/local/lib/python3.10/dist-packages (from ai-economist==1.7.1) (3.1.3)\n",
            "Requirement already satisfied: MarkupSafe==2.0.1 in /usr/local/lib/python3.10/dist-packages (from ai-economist==1.7.1) (2.0.1)\n",
            "Requirement already satisfied: matplotlib==3.2.1 in /usr/local/lib/python3.10/dist-packages (from ai-economist==1.7.1) (3.2.1)\n",
            "Requirement already satisfied: matplotlib-inline==0.1.2 in /usr/local/lib/python3.10/dist-packages (from ai-economist==1.7.1) (0.1.2)\n",
            "Requirement already satisfied: mccabe==0.6.1 in /usr/local/lib/python3.10/dist-packages (from ai-economist==1.7.1) (0.6.1)\n",
            "Requirement already satisfied: mistune==0.8.4 in /usr/local/lib/python3.10/dist-packages (from ai-economist==1.7.1) (0.8.4)\n",
            "Requirement already satisfied: mypy-extensions==0.4.3 in /usr/local/lib/python3.10/dist-packages (from ai-economist==1.7.1) (0.4.3)\n",
            "Requirement already satisfied: nbclient==0.5.3 in /usr/local/lib/python3.10/dist-packages (from ai-economist==1.7.1) (0.5.3)\n",
            "Requirement already satisfied: nbconvert==6.0.7 in /usr/local/lib/python3.10/dist-packages (from ai-economist==1.7.1) (6.0.7)\n",
            "Requirement already satisfied: nbformat==5.1.3 in /usr/local/lib/python3.10/dist-packages (from ai-economist==1.7.1) (5.1.3)\n",
            "Requirement already satisfied: nest-asyncio==1.5.1 in /usr/local/lib/python3.10/dist-packages (from ai-economist==1.7.1) (1.5.1)\n",
            "Requirement already satisfied: notebook==6.4.1 in /usr/local/lib/python3.10/dist-packages (from ai-economist==1.7.1) (6.4.1)\n",
            "Requirement already satisfied: numpy==1.21.0 in /usr/local/lib/python3.10/dist-packages (from ai-economist==1.7.1) (1.21.0)\n",
            "Requirement already satisfied: openpyxl==3.0.7 in /usr/local/lib/python3.10/dist-packages (from ai-economist==1.7.1) (3.0.7)\n",
            "Requirement already satisfied: packaging==20.9 in /usr/local/lib/python3.10/dist-packages (from ai-economist==1.7.1) (20.9)\n",
            "Requirement already satisfied: pandas==1.2.4 in /usr/local/lib/python3.10/dist-packages (from ai-economist==1.7.1) (1.2.4)\n",
            "Requirement already satisfied: pandocfilters==1.4.3 in /usr/local/lib/python3.10/dist-packages (from ai-economist==1.7.1) (1.4.3)\n",
            "Requirement already satisfied: parso==0.8.2 in /usr/local/lib/python3.10/dist-packages (from ai-economist==1.7.1) (0.8.2)\n",
            "Requirement already satisfied: pathspec==0.8.1 in /usr/local/lib/python3.10/dist-packages (from ai-economist==1.7.1) (0.8.1)\n",
            "Requirement already satisfied: pexpect==4.8.0 in /usr/local/lib/python3.10/dist-packages (from ai-economist==1.7.1) (4.8.0)\n",
            "Requirement already satisfied: pickleshare==0.7.5 in /usr/local/lib/python3.10/dist-packages (from ai-economist==1.7.1) (0.7.5)\n",
            "Requirement already satisfied: Pillow==9.0.1 in /usr/local/lib/python3.10/dist-packages (from ai-economist==1.7.1) (9.0.1)\n",
            "Requirement already satisfied: pluggy==0.13.1 in /usr/local/lib/python3.10/dist-packages (from ai-economist==1.7.1) (0.13.1)\n",
            "Requirement already satisfied: prometheus-client==0.10.1 in /usr/local/lib/python3.10/dist-packages (from ai-economist==1.7.1) (0.10.1)\n",
            "Requirement already satisfied: prompt-toolkit==3.0.18 in /usr/local/lib/python3.10/dist-packages (from ai-economist==1.7.1) (3.0.18)\n",
            "Requirement already satisfied: ptyprocess==0.7.0 in /usr/local/lib/python3.10/dist-packages (from ai-economist==1.7.1) (0.7.0)\n",
            "Requirement already satisfied: py==1.10.0 in /usr/local/lib/python3.10/dist-packages (from ai-economist==1.7.1) (1.10.0)\n",
            "Requirement already satisfied: pycodestyle==2.7.0 in /usr/local/lib/python3.10/dist-packages (from ai-economist==1.7.1) (2.7.0)\n",
            "Requirement already satisfied: pycparser==2.20 in /usr/local/lib/python3.10/dist-packages (from ai-economist==1.7.1) (2.20)\n",
            "Requirement already satisfied: pycryptodome==3.10.1 in /usr/local/lib/python3.10/dist-packages (from ai-economist==1.7.1) (3.10.1)\n",
            "Requirement already satisfied: pyflakes==2.3.1 in /usr/local/lib/python3.10/dist-packages (from ai-economist==1.7.1) (2.3.1)\n",
            "Requirement already satisfied: Pygments==2.9.0 in /usr/local/lib/python3.10/dist-packages (from ai-economist==1.7.1) (2.9.0)\n",
            "Requirement already satisfied: pylint==2.8.2 in /usr/local/lib/python3.10/dist-packages (from ai-economist==1.7.1) (2.8.2)\n",
            "Requirement already satisfied: pyparsing==2.4.7 in /usr/local/lib/python3.10/dist-packages (from ai-economist==1.7.1) (2.4.7)\n",
            "Requirement already satisfied: pyrsistent==0.17.3 in /usr/local/lib/python3.10/dist-packages (from ai-economist==1.7.1) (0.17.3)\n",
            "Requirement already satisfied: pytest==6.2.4 in /usr/local/lib/python3.10/dist-packages (from ai-economist==1.7.1) (6.2.4)\n",
            "Requirement already satisfied: python-dateutil==2.8.1 in /usr/local/lib/python3.10/dist-packages (from ai-economist==1.7.1) (2.8.1)\n",
            "Requirement already satisfied: pytz==2021.1 in /usr/local/lib/python3.10/dist-packages (from ai-economist==1.7.1) (2021.1)\n",
            "Requirement already satisfied: pyyaml==5.4.1 in /usr/local/lib/python3.10/dist-packages (from ai-economist==1.7.1) (5.4.1)\n",
            "Requirement already satisfied: pyzmq==22.0.3 in /usr/local/lib/python3.10/dist-packages (from ai-economist==1.7.1) (22.0.3)\n",
            "Requirement already satisfied: qtconsole==5.1.0 in /usr/local/lib/python3.10/dist-packages (from ai-economist==1.7.1) (5.1.0)\n",
            "Requirement already satisfied: QtPy==1.9.0 in /usr/local/lib/python3.10/dist-packages (from ai-economist==1.7.1) (1.9.0)\n",
            "Requirement already satisfied: regex==2021.4.4 in /usr/local/lib/python3.10/dist-packages (from ai-economist==1.7.1) (2021.4.4)\n",
            "Requirement already satisfied: requests in /usr/local/lib/python3.10/dist-packages (from ai-economist==1.7.1) (2.31.0)\n",
            "Requirement already satisfied: scipy in /usr/local/lib/python3.10/dist-packages (from ai-economist==1.7.1) (1.10.1)\n",
            "Requirement already satisfied: Send2Trash==1.5.0 in /usr/local/lib/python3.10/dist-packages (from ai-economist==1.7.1) (1.5.0)\n",
            "Requirement already satisfied: six==1.16.0 in /usr/local/lib/python3.10/dist-packages (from ai-economist==1.7.1) (1.16.0)\n",
            "Requirement already satisfied: soupsieve==2.2.1 in /usr/local/lib/python3.10/dist-packages (from ai-economist==1.7.1) (2.2.1)\n",
            "Requirement already satisfied: terminado==0.10.0 in /usr/local/lib/python3.10/dist-packages (from ai-economist==1.7.1) (0.10.0)\n",
            "Requirement already satisfied: testpath==0.5.0 in /usr/local/lib/python3.10/dist-packages (from ai-economist==1.7.1) (0.5.0)\n",
            "Requirement already satisfied: toml==0.10.2 in /usr/local/lib/python3.10/dist-packages (from ai-economist==1.7.1) (0.10.2)\n",
            "Requirement already satisfied: tornado==6.1 in /usr/local/lib/python3.10/dist-packages (from ai-economist==1.7.1) (6.1)\n",
            "Requirement already satisfied: tqdm==4.60.0 in /usr/local/lib/python3.10/dist-packages (from ai-economist==1.7.1) (4.60.0)\n",
            "Requirement already satisfied: traitlets==5.0.5 in /usr/local/lib/python3.10/dist-packages (from ai-economist==1.7.1) (5.0.5)\n",
            "Requirement already satisfied: typing-extensions==3.10.0.0 in /usr/local/lib/python3.10/dist-packages (from ai-economist==1.7.1) (3.10.0.0)\n",
            "Requirement already satisfied: urllib3==1.26.5 in /usr/local/lib/python3.10/dist-packages (from ai-economist==1.7.1) (1.26.5)\n",
            "Requirement already satisfied: wcwidth==0.2.5 in /usr/local/lib/python3.10/dist-packages (from ai-economist==1.7.1) (0.2.5)\n",
            "Requirement already satisfied: webencodings==0.5.1 in /usr/local/lib/python3.10/dist-packages (from ai-economist==1.7.1) (0.5.1)\n",
            "Requirement already satisfied: widgetsnbextension==3.5.1 in /usr/local/lib/python3.10/dist-packages (from ai-economist==1.7.1) (3.5.1)\n",
            "Requirement already satisfied: wrapt==1.12.1 in /usr/local/lib/python3.10/dist-packages (from ai-economist==1.7.1) (1.12.1)\n",
            "Requirement already satisfied: setuptools>=18.5 in /usr/local/lib/python3.10/dist-packages (from ipython==7.31.1->ai-economist==1.7.1) (67.7.2)\n",
            "Requirement already satisfied: charset-normalizer<4,>=2 in /usr/local/lib/python3.10/dist-packages (from requests->ai-economist==1.7.1) (3.3.2)\n",
            "Installing collected packages: ai-economist\n",
            "  Running setup.py develop for ai-economist\n",
            "Successfully installed ai-economist-1.7.1\n",
            "\n",
            "\n",
            "Restarting the Python runtime! Please (re-)run the cells below.\n"
          ]
        }
      ]
    },
    {
      "cell_type": "code",
      "source": [
        "# Import foundation\n",
        "from ai_economist import foundation"
      ],
      "metadata": {
        "colab": {
          "base_uri": "https://localhost:8080/"
        },
        "id": "TbAHXDGJK5Qt",
        "outputId": "dc8f2bda-faaf-41a8-88fa-949611dc7135"
      },
      "execution_count": null,
      "outputs": [
        {
          "output_type": "stream",
          "name": "stdout",
          "text": [
            "Inside covid19_components.py: 0 GPUs are available.\n",
            "No GPUs found! Running the simulation on a CPU.\n",
            "Inside covid19_env.py: 0 GPUs are available.\n",
            "No GPUs found! Running the simulation on a CPU.\n"
          ]
        }
      ]
    },
    {
      "cell_type": "code",
      "source": [
        "# Change directory to the tutorials folder\n",
        "import os, sys\n",
        "IN_COLAB = 'google.colab' in sys.modules\n",
        "\n",
        "if IN_COLAB:\n",
        "    os.chdir(\"/content/ai-economist/tutorials\")\n",
        "else:\n",
        "    os.chdir(os.path.dirname(os.path.abspath(\"__file__\"))\n",
        ")"
      ],
      "metadata": {
        "id": "HP1IzsXRLCMc"
      },
      "execution_count": null,
      "outputs": []
    },
    {
      "cell_type": "code",
      "source": [
        "import numpy as np\n",
        "%matplotlib inline\n",
        "import matplotlib.pyplot as plt\n",
        "from IPython import display\n",
        "from tutorials.utils import plotting  # plotting utilities for visualizing env. state"
      ],
      "metadata": {
        "id": "ZcKbAjAo6so-"
      },
      "execution_count": null,
      "outputs": []
    },
    {
      "cell_type": "code",
      "source": [
        "# Define the configuration of the environment that will be built\n",
        "\n",
        "env_config = {\n",
        "    # ===== SCENARIO CLASS =====\n",
        "    # Which Scenario class to use: the class's name in the Scenario Registry (foundation.scenarios).\n",
        "    # The environment object will be an instance of the Scenario class.\n",
        "    'scenario_name': 'layout_from_file/simple_wood_and_stone',\n",
        "\n",
        "    # ===== COMPONENTS =====\n",
        "    # Which components to use (specified as list of (\"component_name\", {component_kwargs}) tuples).\n",
        "    #   \"component_name\" refers to the Component class's name in the Component Registry (foundation.components)\n",
        "    #   {component_kwargs} is a dictionary of kwargs passed to the Component class\n",
        "    # The order in which components reset, step, and generate obs follows their listed order below.\n",
        "    'components': [\n",
        "        # (1) Building houses\n",
        "        ('Build', {'skill_dist': \"pareto\", 'payment_max_skill_multiplier': 3}),\n",
        "        # (2) Trading collectible resources\n",
        "        ('ContinuousDoubleAuction', {'max_num_orders': 5}),\n",
        "        # (3) Movement and resource collection\n",
        "        ('Gather', {}),\n",
        "    ],\n",
        "\n",
        "    # ===== SCENARIO CLASS ARGUMENTS =====\n",
        "    # (optional) kwargs that are added by the Scenario class (i.e. not defined in BaseEnvironment)\n",
        "    'env_layout_file': 'quadrant_25x25_20each_30clump.txt',\n",
        "    'starting_agent_coin': 10,\n",
        "    'fixed_four_skill_and_loc': True,\n",
        "\n",
        "    # ===== STANDARD ARGUMENTS ======\n",
        "    # kwargs that are used by every Scenario class (i.e. defined in BaseEnvironment)\n",
        "    'n_agents': 4,          # Number of non-planner agents (must be > 1)\n",
        "    'world_size': [25, 25], # [Height, Width] of the env world\n",
        "    'episode_length': 1000, # Number of timesteps per episode\n",
        "\n",
        "    # In multi-action-mode, the policy selects an action for each action subspace (defined in component code).\n",
        "    # Otherwise, the policy selects only 1 action.\n",
        "    'multi_action_mode_agents': False,\n",
        "    'multi_action_mode_planner': True,\n",
        "\n",
        "    # When flattening observations, concatenate scalar & vector observations before output.\n",
        "    # Otherwise, return observations with minimal processing.\n",
        "    'flatten_observations': False,\n",
        "    # When Flattening masks, concatenate each action subspace mask into a single array.\n",
        "    # Note: flatten_masks = True is required for masking action logits in the code below.\n",
        "    'flatten_masks': True,\n",
        "}"
      ],
      "metadata": {
        "id": "-wxZz4YSLgEz"
      },
      "execution_count": null,
      "outputs": []
    },
    {
      "cell_type": "code",
      "source": [
        "env = foundation.make_env_instance(**env_config)"
      ],
      "metadata": {
        "id": "U5mxaHqxLgDO"
      },
      "execution_count": null,
      "outputs": []
    },
    {
      "cell_type": "code",
      "source": [
        "env.get_agent(0)"
      ],
      "metadata": {
        "colab": {
          "base_uri": "https://localhost:8080/"
        },
        "id": "aU7F4Zc6Lqre",
        "outputId": "198b872d-90d5-4f0f-cd27-28cc8235fe86"
      },
      "execution_count": null,
      "outputs": [
        {
          "output_type": "execute_result",
          "data": {
            "text/plain": [
              "<ai_economist.foundation.agents.mobiles.BasicMobileAgent at 0x7e56585e3e20>"
            ]
          },
          "metadata": {},
          "execution_count": 6
        }
      ]
    },
    {
      "cell_type": "code",
      "source": [
        "# Note: The code for sampling actions (this cell), and playing an episode (below) are general.\n",
        "# That is, it doesn't depend on the Scenario and Component classes used in the environment!\n",
        "\n",
        "def sample_random_action(agent, mask):\n",
        "    \"\"\"Sample random UNMASKED action(s) for agent.\"\"\"\n",
        "    # Return a list of actions: 1 for each action subspace\n",
        "    if agent.multi_action_mode:\n",
        "        split_masks = np.split(mask, agent.action_spaces.cumsum()[:-1])\n",
        "        return [np.random.choice(np.arange(len(m_)), p=m_/m_.sum()) for m_ in split_masks]\n",
        "\n",
        "    # Return a single action\n",
        "    else:\n",
        "        return np.random.choice(np.arange(agent.action_spaces), p=mask/mask.sum())\n",
        "\n",
        "def sample_random_actions(env, obs):\n",
        "    \"\"\"Samples random UNMASKED actions for each agent in obs.\"\"\"\n",
        "\n",
        "    actions = {\n",
        "        a_idx: sample_random_action(env.get_agent(a_idx), a_obs['action_mask'])\n",
        "        for a_idx, a_obs in obs.items()\n",
        "    }\n",
        "\n",
        "    return actions"
      ],
      "metadata": {
        "id": "2t2x1q86Luo6"
      },
      "execution_count": null,
      "outputs": []
    },
    {
      "cell_type": "code",
      "source": [
        "obs = env.reset()"
      ],
      "metadata": {
        "id": "Sybr0_BOL1JR"
      },
      "execution_count": null,
      "outputs": []
    },
    {
      "cell_type": "code",
      "source": [
        "actions = sample_random_actions(env, obs)\n",
        "obs, rew, done, info = env.step(actions)"
      ],
      "metadata": {
        "id": "1Qxzkz_HMQnH"
      },
      "execution_count": null,
      "outputs": []
    },
    {
      "cell_type": "code",
      "source": [
        "obs.keys()"
      ],
      "metadata": {
        "id": "71qrZFIdMVHk"
      },
      "execution_count": null,
      "outputs": []
    },
    {
      "cell_type": "code",
      "source": [
        "for key, val in obs['0'].items():\n",
        "    print(\"{:50} {}\".format(key, type(val)))"
      ],
      "metadata": {
        "id": "9_Vu-VF_MYRR"
      },
      "execution_count": null,
      "outputs": []
    },
    {
      "cell_type": "code",
      "source": [
        "for agent_idx, reward in rew.items():\n",
        "    print(\"{:2} {:.3f}\".format(agent_idx, reward))"
      ],
      "metadata": {
        "id": "Su21HislMbio"
      },
      "execution_count": null,
      "outputs": []
    },
    {
      "cell_type": "code",
      "source": [
        "done"
      ],
      "metadata": {
        "id": "bRV9Mz6vMey7"
      },
      "execution_count": null,
      "outputs": []
    },
    {
      "cell_type": "code",
      "source": [
        "info"
      ],
      "metadata": {
        "id": "NY_ArqW4MhgM"
      },
      "execution_count": null,
      "outputs": []
    },
    {
      "cell_type": "code",
      "source": [
        "def do_plot(env, ax, fig):\n",
        "    \"\"\"Plots world state during episode sampling.\"\"\"\n",
        "    plotting.plot_env_state(env, ax)\n",
        "    ax.set_aspect('equal')\n",
        "    display.display(fig)\n",
        "    display.clear_output(wait=True)\n",
        "\n",
        "def play_random_episode(env, plot_every=100, do_dense_logging=False):\n",
        "    \"\"\"Plays an episode with randomly sampled actions.\n",
        "\n",
        "    Demonstrates gym-style API:\n",
        "        obs                  <-- env.reset(...)         # Reset\n",
        "        obs, rew, done, info <-- env.step(actions, ...) # Interaction loop\n",
        "\n",
        "    \"\"\"\n",
        "    fig, ax = plt.subplots(1, 1, figsize=(10, 10))\n",
        "\n",
        "    # Reset\n",
        "    obs = env.reset(force_dense_logging=do_dense_logging)\n",
        "\n",
        "    # Interaction loop (w/ plotting)\n",
        "    for t in range(env.episode_length):\n",
        "        actions = sample_random_actions(env, obs)\n",
        "        obs, rew, done, info = env.step(actions)\n",
        "\n",
        "        if ((t+1) % plot_every) == 0:\n",
        "            do_plot(env, ax, fig)\n",
        "\n",
        "    if ((t+1) % plot_every) != 0:\n",
        "        do_plot(env, ax, fig)"
      ],
      "metadata": {
        "id": "I2AdalfuMkFG"
      },
      "execution_count": null,
      "outputs": []
    },
    {
      "cell_type": "code",
      "source": [
        "play_random_episode(env, plot_every=100)"
      ],
      "metadata": {
        "id": "15IDaYVpModT"
      },
      "execution_count": null,
      "outputs": []
    },
    {
      "cell_type": "code",
      "source": [
        "# Play another episode. This time, tell the environment to do dense logging\n",
        "play_random_episode(env, plot_every=100, do_dense_logging=True)\n",
        "\n",
        "# Grab the dense log from the env\n",
        "dense_log = env.previous_episode_dense_log"
      ],
      "metadata": {
        "id": "l7PjqcmVMrgQ"
      },
      "execution_count": null,
      "outputs": []
    },
    {
      "cell_type": "code",
      "source": [
        "# Show the evolution of the world state from t=0 to t=200\n",
        "fig = plotting.vis_world_range(dense_log, t0=0, tN=200, N=5)"
      ],
      "metadata": {
        "id": "qHzmC2jcMres"
      },
      "execution_count": null,
      "outputs": []
    },
    {
      "cell_type": "code",
      "source": [
        "# Show the evolution of the world state over the full episode\n",
        "fig = plotting.vis_world_range(dense_log, N=5)"
      ],
      "metadata": {
        "id": "lEKMEc9jMyb9"
      },
      "execution_count": null,
      "outputs": []
    },
    {
      "cell_type": "code",
      "source": [
        "# Use the \"breakdown\" tool to visualize the world state, agent-wise quantities, movement, and trading events\n",
        "plotting.breakdown(dense_log);"
      ],
      "metadata": {
        "id": "eSRJ2J3UM2G1"
      },
      "execution_count": null,
      "outputs": []
    }
  ]
}